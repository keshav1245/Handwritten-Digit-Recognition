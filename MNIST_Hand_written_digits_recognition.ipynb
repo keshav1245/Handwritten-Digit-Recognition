{
 "cells": [
  {
   "cell_type": "code",
   "execution_count": 1,
   "metadata": {},
   "outputs": [
    {
     "name": "stderr",
     "output_type": "stream",
     "text": [
      "Using TensorFlow backend.\n"
     ]
    }
   ],
   "source": [
    "import numpy as np\n",
    "from keras import layers\n",
    "from keras.utils import to_categorical\n",
    "from keras.layers import Input, Dense, Activation,BatchNormalization, Flatten, Conv2D, AveragePooling2D , ZeroPadding2D\n",
    "from keras.models import Model\n",
    "from keras.datasets import mnist\n",
    "import keras.backend as K\n",
    "K.set_image_data_format('channels_last')\n",
    "import matplotlib.pyplot as plt\n",
    "from matplotlib.pyplot import imshow"
   ]
  },
  {
   "cell_type": "code",
   "execution_count": null,
   "metadata": {},
   "outputs": [],
   "source": []
  },
  {
   "cell_type": "code",
   "execution_count": 2,
   "metadata": {},
   "outputs": [],
   "source": [
    "(X_train , Y_train) , (X_test , Y_test) = mnist.load_data()"
   ]
  },
  {
   "cell_type": "code",
   "execution_count": 3,
   "metadata": {},
   "outputs": [
    {
     "name": "stdout",
     "output_type": "stream",
     "text": [
      "X_train Shape :  (60000, 28, 28)\n",
      "Y_train Shape :  (60000,)\n",
      "X_test Shape :  (10000, 28, 28)\n",
      "Y_test Shape :  (10000,)\n"
     ]
    }
   ],
   "source": [
    "print(\"X_train Shape : \",X_train.shape)\n",
    "print(\"Y_train Shape : \",Y_train.shape)\n",
    "print(\"X_test Shape : \",X_test.shape)\n",
    "print(\"Y_test Shape : \",Y_test.shape)"
   ]
  },
  {
   "cell_type": "code",
   "execution_count": 4,
   "metadata": {},
   "outputs": [
    {
     "name": "stdout",
     "output_type": "stream",
     "text": [
      "X_train Shape :  (60000, 28, 28, 1)\n",
      "X_test Shape :  (10000, 28, 28, 1)\n"
     ]
    }
   ],
   "source": [
    "X_train = X_train.reshape(X_train.shape + (1,))\n",
    "X_test = X_test.reshape(X_test.shape + (1,))\n",
    "print(\"X_train Shape : \",X_train.shape)\n",
    "print(\"X_test Shape : \",X_test.shape)"
   ]
  },
  {
   "cell_type": "code",
   "execution_count": 5,
   "metadata": {},
   "outputs": [
    {
     "name": "stdout",
     "output_type": "stream",
     "text": [
      "Y_train Shape :  (60000, 10)\n",
      "Y_test Shape :  (10000, 10)\n"
     ]
    }
   ],
   "source": [
    "Y_train = to_categorical(Y_train, num_classes=10, dtype='float32')\n",
    "Y_test = to_categorical(Y_test, num_classes=10, dtype='float32')\n",
    "print(\"Y_train Shape : \",Y_train.shape)\n",
    "print(\"Y_test Shape : \",Y_test.shape)"
   ]
  },
  {
   "cell_type": "code",
   "execution_count": null,
   "metadata": {},
   "outputs": [],
   "source": []
  },
  {
   "cell_type": "code",
   "execution_count": 8,
   "metadata": {
    "scrolled": false
   },
   "outputs": [
    {
     "data": {
      "image/png": "[encoded data removed]",
      "text/plain": [
       "<Figure size 1080x1080 with 3 Axes>"
      ]
     },
     "metadata": {
      "needs_background": "light"
     },
     "output_type": "display_data"
    }
   ],
   "source": [
    "fig , axs  = plt.subplots(1,3 , figsize = (15 , 15))\n",
    "\n",
    "axs[0].imshow(X_train[0][:,:,0] , cmap = 'gray')\n",
    "axs[0].set_title(\"Value : \"+str(Y_train[0]))\n",
    "\n",
    "axs[1].imshow(X_train[1500][:,:,0] , cmap = 'gray')\n",
    "axs[1].set_title(\"Value : \"+str(Y_train[1500]))\n",
    "\n",
    "axs[2].imshow(X_train[1000][:,:,0] , cmap = 'gray')\n",
    "axs[2].set_title(\"Value : \"+str(Y_train[1000]))\n",
    "\n",
    "plt.show()"
   ]
  },
  {
   "cell_type": "code",
   "execution_count": null,
   "metadata": {},
   "outputs": [],
   "source": []
  },
  {
   "cell_type": "code",
   "execution_count": null,
   "metadata": {},
   "outputs": [],
   "source": []
  },
  {
   "cell_type": "code",
   "execution_count": 9,
   "metadata": {},
   "outputs": [],
   "source": [
    "def LeNet_5(input_shape):\n",
    "    \n",
    "    X_input = Input(shape=input_shape)\n",
    "    \n",
    "    X = ZeroPadding2D(2)(X_input)\n",
    "    \n",
    "    X = Conv2D(6 , (5,5) , strides=(1,1), name = 'conv0')(X)\n",
    "    X = BatchNormalization(axis=-1 , name= 'bn0')(X)\n",
    "    X = Activation('relu' , name = 'relu0')(X)\n",
    "    \n",
    "    X = AveragePooling2D((2,2) , strides= (2,2))(X)\n",
    "    \n",
    "    X = Conv2D(16 , (5,5) , strides = (1,1) , name = 'conv1')(X)\n",
    "    X = BatchNormalization(axis=-1 , name = 'bn1')(X)\n",
    "    X = Activation('relu' , name = 'relu1')(X)\n",
    "    \n",
    "    X = AveragePooling2D((2,2) , strides= (2,2))(X)\n",
    "    \n",
    "    X = Flatten()(X)\n",
    "    \n",
    "    X = Dense(120 ,activation='relu' , name = 'fc0')(X)\n",
    "    \n",
    "    X = Dense(84 ,activation='relu' , name = 'fc1')(X)\n",
    "    \n",
    "    X = Dense(10 , activation='softmax' , name = 'fc2')(X)\n",
    "    \n",
    "    model = Model(X_input , X , name = \"LeNet-5\")\n",
    "    \n",
    "    return model\n",
    "    "
   ]
  },
  {
   "cell_type": "code",
   "execution_count": 23,
   "metadata": {},
   "outputs": [],
   "source": [
    "lenet = LeNet_5(X_train.shape[1:])"
   ]
  },
  {
   "cell_type": "code",
   "execution_count": 24,
   "metadata": {},
   "outputs": [
    {
     "name": "stdout",
     "output_type": "stream",
     "text": [
      "Model: \"LeNet-5\"\n",
      "_________________________________________________________________\n",
      "Layer (type)                 Output Shape              Param #   \n",
      "=================================================================\n",
      "input_2 (InputLayer)         (None, 28, 28, 1)         0         \n",
      "_________________________________________________________________\n",
      "zero_padding2d_2 (ZeroPaddin (None, 32, 32, 1)         0         \n",
      "_________________________________________________________________\n",
      "conv0 (Conv2D)               (None, 28, 28, 6)         156       \n",
      "_________________________________________________________________\n",
      "bn0 (BatchNormalization)     (None, 28, 28, 6)         24        \n",
      "_________________________________________________________________\n",
      "relu0 (Activation)           (None, 28, 28, 6)         0         \n",
      "_________________________________________________________________\n",
      "average_pooling2d_3 (Average (None, 14, 14, 6)         0         \n",
      "_________________________________________________________________\n",
      "conv1 (Conv2D)               (None, 10, 10, 16)        2416      \n",
      "_________________________________________________________________\n",
      "bn1 (BatchNormalization)     (None, 10, 10, 16)        64        \n",
      "_________________________________________________________________\n",
      "relu1 (Activation)           (None, 10, 10, 16)        0         \n",
      "_________________________________________________________________\n",
      "average_pooling2d_4 (Average (None, 5, 5, 16)          0         \n",
      "_________________________________________________________________\n",
      "flatten_2 (Flatten)          (None, 400)               0         \n",
      "_________________________________________________________________\n",
      "fc0 (Dense)                  (None, 120)               48120     \n",
      "_________________________________________________________________\n",
      "fc1 (Dense)                  (None, 84)                10164     \n",
      "_________________________________________________________________\n",
      "fc2 (Dense)                  (None, 10)                850       \n",
      "=================================================================\n",
      "Total params: 61,794\n",
      "Trainable params: 61,750\n",
      "Non-trainable params: 44\n",
      "_________________________________________________________________\n"
     ]
    }
   ],
   "source": [
    "lenet.summary()"
   ]
  },
  {
   "cell_type": "code",
   "execution_count": 25,
   "metadata": {},
   "outputs": [],
   "source": [
    "lenet.compile(optimizer='adam' , loss='categorical_crossentropy' , metrics=['accuracy'])"
   ]
  },
  {
   "cell_type": "code",
   "execution_count": 26,
   "metadata": {
    "scrolled": false
   },
   "outputs": [
    {
     "name": "stdout",
     "output_type": "stream",
     "text": [
      "Train on 54000 samples, validate on 6000 samples\n",
      "Epoch 1/10\n",
      "54000/54000 [==============================] - 4s 72us/step - loss: 0.2782 - accuracy: 0.9226 - val_loss: 0.1100 - val_accuracy: 0.9727\n",
      "Epoch 2/10\n",
      "54000/54000 [==============================] - 3s 63us/step - loss: 0.0713 - accuracy: 0.9784 - val_loss: 0.0705 - val_accuracy: 0.9798\n",
      "Epoch 3/10\n",
      "54000/54000 [==============================] - 3s 63us/step - loss: 0.0512 - accuracy: 0.9839 - val_loss: 0.0531 - val_accuracy: 0.9848\n",
      "Epoch 4/10\n",
      "54000/54000 [==============================] - 3s 63us/step - loss: 0.0421 - accuracy: 0.9867 - val_loss: 0.0490 - val_accuracy: 0.9875\n",
      "Epoch 5/10\n",
      "54000/54000 [==============================] - 3s 62us/step - loss: 0.0349 - accuracy: 0.9886 - val_loss: 0.0544 - val_accuracy: 0.9847\n",
      "Epoch 6/10\n",
      "54000/54000 [==============================] - 3s 62us/step - loss: 0.0278 - accuracy: 0.9913 - val_loss: 0.0361 - val_accuracy: 0.9912\n",
      "Epoch 7/10\n",
      "54000/54000 [==============================] - 3s 62us/step - loss: 0.0241 - accuracy: 0.9917 - val_loss: 0.0445 - val_accuracy: 0.9883\n",
      "Epoch 8/10\n",
      "54000/54000 [==============================] - 3s 63us/step - loss: 0.0204 - accuracy: 0.9929 - val_loss: 0.0427 - val_accuracy: 0.9878\n",
      "Epoch 9/10\n",
      "54000/54000 [==============================] - 3s 62us/step - loss: 0.0175 - accuracy: 0.9942 - val_loss: 0.0370 - val_accuracy: 0.9908\n",
      "Epoch 10/10\n",
      "54000/54000 [==============================] - 3s 62us/step - loss: 0.0162 - accuracy: 0.9949 - val_loss: 0.0382 - val_accuracy: 0.9902\n"
     ]
    },
    {
     "data": {
      "text/plain": [
       "<keras.callbacks.callbacks.History at 0x26c56bf0408>"
      ]
     },
     "execution_count": 26,
     "metadata": {},
     "output_type": "execute_result"
    }
   ],
   "source": [
    "lenet.fit(X_train,Y_train,epochs=10 , batch_size = 256 , validation_split = 0.1)"
   ]
  },
  {
   "cell_type": "code",
   "execution_count": 27,
   "metadata": {},
   "outputs": [
    {
     "name": "stdout",
     "output_type": "stream",
     "text": [
      "9900/9900 [==============================] - 1s 96us/step\n",
      "Loss = 0.03226421781274136\n",
      "Test Accuracy = 0.989393949508667\n"
     ]
    }
   ],
   "source": [
    "preds = lenet.evaluate(X_test[:9900],Y_test[:9900])\n",
    "\n",
    "print (\"Loss = \" + str(preds[0]))\n",
    "print (\"Test Accuracy = \" + str(preds[1]))"
   ]
  },
  {
   "cell_type": "code",
   "execution_count": 28,
   "metadata": {},
   "outputs": [],
   "source": [
    "Y_predict = lenet.predict(X_test[9900:])"
   ]
  },
  {
   "cell_type": "code",
   "execution_count": 29,
   "metadata": {},
   "outputs": [
    {
     "data": {
      "text/plain": [
       "(100, 10)"
      ]
     },
     "execution_count": 29,
     "metadata": {},
     "output_type": "execute_result"
    }
   ],
   "source": [
    "Y_predict.shape"
   ]
  },
  {
   "cell_type": "code",
   "execution_count": 30,
   "metadata": {},
   "outputs": [
    {
     "data": {
      "text/plain": [
       "<matplotlib.image.AxesImage at 0x26d256b00c8>"
      ]
     },
     "execution_count": 30,
     "metadata": {},
     "output_type": "execute_result"
    },
    {
     "data": {
      "image/png": "[encoded data removed]",
      "text/plain": [
       "<Figure size 432x288 with 1 Axes>"
      ]
     },
     "metadata": {
      "needs_background": "light"
     },
     "output_type": "display_data"
    }
   ],
   "source": [
    "plt.imshow(X_test[9909][:,:,0] , cmap = 'gray')"
   ]
  },
  {
   "cell_type": "code",
   "execution_count": 31,
   "metadata": {},
   "outputs": [
    {
     "name": "stdout",
     "output_type": "stream",
     "text": [
      "[4.6501469e-09 9.7639440e-07 6.5394858e-07 1.3128282e-05 5.7201279e-09\n",
      " 3.8472678e-10 2.0269731e-14 9.9998486e-01 3.2859147e-09 3.9983041e-07]\n"
     ]
    }
   ],
   "source": [
    "print(Y_predict[9])"
   ]
  },
  {
   "cell_type": "code",
   "execution_count": 32,
   "metadata": {},
   "outputs": [],
   "source": [
    "def get_number(predicted_output):\n",
    "    return (np.argmax(predicted_output)) "
   ]
  },
  {
   "cell_type": "code",
   "execution_count": 33,
   "metadata": {},
   "outputs": [
    {
     "name": "stdout",
     "output_type": "stream",
     "text": [
      "7\n"
     ]
    }
   ],
   "source": [
    "print(get_number(Y_predict[9]))"
   ]
  },
  {
   "cell_type": "code",
   "execution_count": 34,
   "metadata": {},
   "outputs": [
    {
     "name": "stdout",
     "output_type": "stream",
     "text": [
      "                                                    PREDICTIONS                                                    \n"
     ]
    },
    {
     "data": {
      "image/png": "[encoded data removed]",
      "text/plain": [
       "<Figure size 1080x1080 with 3 Axes>"
      ]
     },
     "metadata": {
      "needs_background": "light"
     },
     "output_type": "display_data"
    }
   ],
   "source": [
    "fig , axs = plt.subplots(1,3 ,figsize = (15,15))\n",
    "\n",
    "axs[0].imshow(X_test[9900][:,:,0] , cmap = 'gray')\n",
    "axs[0].set_title(\"Prediction : \"+str(get_number(Y_predict[0])))\n",
    "\n",
    "axs[1].imshow(X_test[9950][:,:,0] , cmap = 'gray')\n",
    "axs[1].set_title(\"Prediction : \"+str(get_number(Y_predict[50])))\n",
    "\n",
    "axs[2].imshow(X_test[9999][:,:,0] , cmap = 'gray')\n",
    "axs[2].set_title(\"Prediction : \"+str(get_number(Y_predict[99])))\n",
    "\n",
    "print(f\"{'PREDICTIONS':^115}\")"
   ]
  },
  {
   "cell_type": "code",
   "execution_count": 35,
   "metadata": {},
   "outputs": [],
   "source": [
    "lenet.save(\"MNIST_Model_Saved\")"
   ]
  },
  {
   "cell_type": "code",
   "execution_count": null,
   "metadata": {},
   "outputs": [],
   "source": []
  }
 ],
 "metadata": {
  "kernelspec": {
   "display_name": "Python 3",
   "language": "python",
   "name": "python3"
  },
  "language_info": {
   "codemirror_mode": {
    "name": "ipython",
    "version": 3
   },
   "file_extension": ".py",
   "mimetype": "text/x-python",
   "name": "python",
   "nbconvert_exporter": "python",
   "pygments_lexer": "ipython3",
   "version": "3.7.7"
  }
 },
 "nbformat": 4,
 "nbformat_minor": 4
}
